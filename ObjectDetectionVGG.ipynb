{
 "cells": [
  {
   "cell_type": "code",
   "execution_count": 1,
   "metadata": {},
   "outputs": [],
   "source": [
    "import os\n",
    "\n",
    "os.environ[\"RUNFILES_DIR\"] = \"/Users/shreyasm/opt/anaconda3/share/plaidml\"\n",
    "os.environ[\"PLAIDML_NATIVE_PATH\"] = \"/Users/shreyasm/opt/anaconda3/lib/libplaidml.dylib\"\n",
    "os.environ[\"KERAS_BACKEND\"] = \"plaidml.keras.backend\""
   ]
  },
  {
   "cell_type": "code",
   "execution_count": 14,
   "metadata": {},
   "outputs": [],
   "source": [
    "from keras.applications.vgg16 import VGG16\n",
    "from keras.preprocessing import image\n",
    "from keras.applications.vgg16 import preprocess_input, decode_predictions\n",
    "import numpy as np\n",
    "import keras\n",
    "import cv2"
   ]
  },
  {
   "cell_type": "code",
   "execution_count": 15,
   "metadata": {},
   "outputs": [
    {
     "name": "stdout",
     "output_type": "stream",
     "text": [
      "{'basenji': 53.13348174095154, 'dingo': 11.150284856557846, 'Pembroke': 8.412560820579529, 'Chihuahua': 7.281755656003952, 'French_bulldog': 2.724745124578476, 'chow': 1.8306178972125053, 'Cardigan': 1.779337041079998, 'kelpie': 1.7231589183211327, 'Eskimo_dog': 1.616276241838932, 'Norwich_terrier': 1.5969038009643555}\n"
     ]
    }
   ],
   "source": [
    "model = VGG16(weights='imagenet')\n",
    "\n",
    "img_path = \"/Users/shreyasm/Downloads/Angwy Shiba Inu.jpeg\"\n",
    "img = image.load_img(img_path, target_size=(224, 224))\n",
    "x = image.img_to_array(img)\n",
    "x = np.expand_dims(x, axis=0)\n",
    "x = preprocess_input(x)\n",
    "\n",
    "preds = model.predict(x)\n",
    "decoded_preds = decode_predictions(preds, top=10)\n",
    "preds_prob = {}\n",
    "for i in decoded_preds:\n",
    "    for j in i:\n",
    "        preds_prob[j[1]] = j[2]*100\n",
    "print(preds_prob)"
   ]
  },
  {
   "cell_type": "code",
   "execution_count": null,
   "metadata": {},
   "outputs": [],
   "source": []
  },
  {
   "cell_type": "code",
   "execution_count": null,
   "metadata": {},
   "outputs": [],
   "source": []
  }
 ],
 "metadata": {
  "interpreter": {
   "hash": "aee8b7b246df8f9039afb4144a1f6fd8d2ca17a180786b69acc140d282b71a49"
  },
  "kernelspec": {
   "display_name": "Python 3.9.5 64-bit",
   "language": "python",
   "name": "python3"
  },
  "language_info": {
   "codemirror_mode": {
    "name": "ipython",
    "version": 3
   },
   "file_extension": ".py",
   "mimetype": "text/x-python",
   "name": "python",
   "nbconvert_exporter": "python",
   "pygments_lexer": "ipython3",
   "version": "3.9.7"
  },
  "orig_nbformat": 4
 },
 "nbformat": 4,
 "nbformat_minor": 2
}
