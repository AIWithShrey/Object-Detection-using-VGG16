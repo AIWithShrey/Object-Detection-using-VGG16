{
 "cells": [
  {
   "cell_type": "markdown",
   "metadata": {},
   "source": [
    "Changing Keras backend from TensorFlow to PlaidML"
   ]
  },
  {
   "cell_type": "code",
   "execution_count": 6,
   "metadata": {},
   "outputs": [],
   "source": [
    "import os\n",
    "\n",
    "os.environ[\"RUNFILES_DIR\"] = \"/Users/shreyasm/opt/anaconda3/share/plaidml\"\n",
    "os.environ[\"PLAIDML_NATIVE_PATH\"] = \"/Users/shreyasm/opt/anaconda3/lib/libplaidml.dylib\"\n",
    "os.environ[\"KERAS_BACKEND\"] = \"plaidml.keras.backend\""
   ]
  },
  {
   "cell_type": "markdown",
   "metadata": {},
   "source": [
    "Importing important libraries and the base model (VGG16)"
   ]
  },
  {
   "cell_type": "code",
   "execution_count": 7,
   "metadata": {},
   "outputs": [],
   "source": [
    "from keras.applications.vgg16 import VGG16\n",
    "from keras.preprocessing import image\n",
    "from keras.applications.vgg16 import preprocess_input, decode_predictions\n",
    "import numpy as np\n",
    "import keras\n",
    "import cv2"
   ]
  },
  {
   "cell_type": "markdown",
   "metadata": {},
   "source": [
    "Initialising the model with pre-trained weights and setting our input data"
   ]
  },
  {
   "cell_type": "code",
   "execution_count": 11,
   "metadata": {},
   "outputs": [],
   "source": [
    "model = VGG16(weights='imagenet')\n",
    "\n",
    "img_path = \"/Users/shreyasm/Downloads/InferOrange.jpg\"\n",
    "img = image.load_img(img_path, target_size=(224, 224))\n",
    "x = image.img_to_array(img)\n",
    "x = np.expand_dims(x, axis=0)\n",
    "x = preprocess_input(x)"
   ]
  },
  {
   "cell_type": "markdown",
   "metadata": {},
   "source": [
    "Running inference using the pre-trained model with our own data"
   ]
  },
  {
   "cell_type": "code",
   "execution_count": 12,
   "metadata": {},
   "outputs": [
    {
     "name": "stdout",
     "output_type": "stream",
     "text": [
      "All predictions:  {'orange': 90.2456521987915, 'lemon': 9.676937013864517, 'banana': 0.02639702579472214, 'Granny_Smith': 0.010001315240515396, 'strawberry': 0.009589582623448223, 'pineapple': 0.005841922029503621, 'strainer': 0.004544895273284055, 'spaghetti_squash': 0.0034120290365535766, 'pomegranate': 0.0019770141079789028, 'croquet_ball': 0.001378328033752041}\n",
      "\n",
      "Highest prob prediction:  orange = 90.2456521987915\n"
     ]
    }
   ],
   "source": [
    "preds = model.predict(x)\n",
    "decoded_preds = decode_predictions(preds, top=10)\n",
    "preds_prob = {}\n",
    "for i in decoded_preds:\n",
    "    for j in i:\n",
    "        preds_prob[j[1]] = j[2]*100\n",
    "print(\"All predictions: \", preds_prob)\n",
    "print()\n",
    "print(\"Highest prob prediction: \", max(preds_prob, key=preds_prob.get), '=', preds_prob[max(preds_prob, key=preds_prob.get)])"
   ]
  },
  {
   "cell_type": "code",
   "execution_count": null,
   "metadata": {},
   "outputs": [],
   "source": []
  }
 ],
 "metadata": {
  "interpreter": {
   "hash": "aee8b7b246df8f9039afb4144a1f6fd8d2ca17a180786b69acc140d282b71a49"
  },
  "kernelspec": {
   "display_name": "Python 3.9.5 64-bit",
   "language": "python",
   "name": "python3"
  },
  "language_info": {
   "codemirror_mode": {
    "name": "ipython",
    "version": 3
   },
   "file_extension": ".py",
   "mimetype": "text/x-python",
   "name": "python",
   "nbconvert_exporter": "python",
   "pygments_lexer": "ipython3",
   "version": "3.9.7"
  },
  "orig_nbformat": 4
 },
 "nbformat": 4,
 "nbformat_minor": 2
}
